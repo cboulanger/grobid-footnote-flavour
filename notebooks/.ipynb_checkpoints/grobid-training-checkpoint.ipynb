{
 "cells": [
  {
   "cell_type": "markdown",
   "id": "f3d6578d82896b39",
   "metadata": {},
   "source": [
    "# Create a new Grobid \"flavour\" for law and the humanities\n"
   ]
  },
  {
   "cell_type": "markdown",
   "id": "7e6f93e1-32b2-4ae1-aa1f-606825f7225e",
   "metadata": {
    "tags": []
   },
   "source": [
    "\n",
    "## Create a training set\n",
    "\n",
    "See\n",
    "- https://grobid.readthedocs.io/en/latest/Training-the-models-of-Grobid/\n",
    "- https://grobid.readthedocs.io/en/latest/Grobid-specialized-processes/\n",
    "\n",
    "Start Grobid docker container (>= v.0.9.0):\n",
    "\n",
    "```bash\n",
    "docker pull lfoppiano/grobid:latest-develop\n",
    "docker run -d --rm  -p 8070:8070 lfoppiano/grobid:latest-develop\n",
    "```\n",
    "\n"
   ]
  },
  {
   "cell_type": "code",
   "execution_count": 1,
   "id": "d4fe54b4-c9ec-4740-ab4f-43bfa03b8fa9",
   "metadata": {
    "tags": []
   },
   "outputs": [
    {
     "name": "stderr",
     "output_type": "stream",
     "text": [
      "100%|██████████| 4/4 [00:14<00:00,  3.59s/it]\n"
     ]
    }
   ],
   "source": [
    "import requests\n",
    "import zipfile\n",
    "import os\n",
    "import glob\n",
    "from tqdm import tqdm\n",
    "\n",
    "def create_training(input_file_path, output_dir_path):\n",
    "    url = 'http://localhost:8070/api/createTraining'\n",
    "    files = {'input': open(input_file_path, 'rb')}\n",
    "\n",
    "    response = requests.post(url, files=files)\n",
    "\n",
    "    output_file_path = os.path.join(output_dir_path, 'file.zip')\n",
    "    with open(output_file_path, 'wb') as f:\n",
    "        f.write(response.content)\n",
    "\n",
    "    with zipfile.ZipFile(output_file_path, 'r') as zip_ref:\n",
    "        zip_ref.extractall(output_dir_path)\n",
    "\n",
    "    os.remove(output_file_path)\n",
    "\n",
    "pdf_files = glob.glob('../batches/batch_1/0_input/*.pdf')\n",
    "for pdf_file in tqdm(pdf_files):\n",
    "    output_dir = os.path.join('../batches/batch_1/1_generated', os.path.splitext(os.path.basename(pdf_file))[0])\n",
    "    os.makedirs(output_dir, exist_ok=True)\n",
    "    create_training(pdf_file, output_dir)"
   ]
  },
  {
   "cell_type": "code",
   "execution_count": null,
   "id": "9644734c-e631-434e-97b0-6dc2a9d00044",
   "metadata": {},
   "outputs": [],
   "source": []
  }
 ],
 "metadata": {
  "kernelspec": {
   "display_name": "Anaconda 2021.11",
   "language": "python",
   "name": "anaconda_3_2021_11"
  },
  "language_info": {
   "codemirror_mode": {
    "name": "ipython",
    "version": 3
   },
   "file_extension": ".py",
   "mimetype": "text/x-python",
   "name": "python",
   "nbconvert_exporter": "python",
   "pygments_lexer": "ipython3",
   "version": "3.9.7"
  }
 },
 "nbformat": 4,
 "nbformat_minor": 5
}
