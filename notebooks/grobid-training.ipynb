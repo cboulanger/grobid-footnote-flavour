{
 "cells": [
  {
   "cell_type": "markdown",
   "id": "f3d6578d82896b39",
   "metadata": {},
   "source": [
    "# Create a new Grobid \"flavour\" for law and the humanities\n"
   ]
  },
  {
   "cell_type": "markdown",
   "id": "7e6f93e1-32b2-4ae1-aa1f-606825f7225e",
   "metadata": {
    "tags": []
   },
   "source": [
    "\n",
    "## Create a training set\n",
    "\n",
    "See\n",
    "- https://grobid.readthedocs.io/en/latest/Training-the-models-of-Grobid/\n",
    "- https://grobid.readthedocs.io/en/latest/Grobid-specialized-processes/\n",
    "\n",
    "Start Grobid docker container (>= v.0.9.0):\n",
    "\n",
    "```bash\n",
    "docker pull lfoppiano/grobid:latest-develop\n",
    "docker run -d --rm  -p 8070:8070 lfoppiano/grobid:latest-develop\n",
    "```\n",
    "\n"
   ]
  },
  {
   "cell_type": "markdown",
   "id": "ac351eaa-bd2d-4b09-b3b5-a150ba55ff50",
   "metadata": {},
   "source": [
    "```bash\n",
    "curl --location 'http://localhost:8070/api/createTraining' \\\n",
    "--form 'input=@\"/input/pdf/10.5771__2699-1284-2020-1-16.pdf\"' \\\n",
    "--output output/training/file.zip\n",
    "```"
   ]
  }
 ],
 "metadata": {
  "kernelspec": {
   "display_name": "Anaconda 2021.11",
   "language": "python",
   "name": "anaconda_3_2021_11"
  },
  "language_info": {
   "codemirror_mode": {
    "name": "ipython",
    "version": 3
   },
   "file_extension": ".py",
   "mimetype": "text/x-python",
   "name": "python",
   "nbconvert_exporter": "python",
   "pygments_lexer": "ipython3",
   "version": "3.9.7"
  }
 },
 "nbformat": 4,
 "nbformat_minor": 5
}
