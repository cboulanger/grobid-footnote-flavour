{
 "cells": [
  {
   "cell_type": "markdown",
   "id": "f3d6578d82896b39",
   "metadata": {},
   "source": [
    "# Create a new Grobid \"flavour\" for law and the humanities\n"
   ]
  },
  {
   "cell_type": "markdown",
   "id": "7e6f93e1-32b2-4ae1-aa1f-606825f7225e",
   "metadata": {
    "tags": []
   },
   "source": [
    "\n",
    "## Create a training set\n",
    "\n",
    "See\n",
    "- https://grobid.readthedocs.io/en/latest/Training-the-models-of-Grobid/\n",
    "- https://grobid.readthedocs.io/en/latest/Grobid-specialized-processes/\n",
    "\n",
    "Start Grobid docker container (>= v.0.9.0):\n",
    "\n",
    "```bash\n",
    "docker pull lfoppiano/grobid:latest-develop\n",
    "docker run -d --rm  -p 8070:8070 lfoppiano/grobid:latest-develop\n",
    "```\n",
    "\n"
   ]
  },
  {
   "cell_type": "code",
   "execution_count": 1,
   "id": "d4fe54b4-c9ec-4740-ab4f-43bfa03b8fa9",
   "metadata": {
    "tags": []
   },
   "outputs": [
    {
     "name": "stdout",
     "output_type": "stream",
     "text": [
      "  % Total    % Received % Xferd  Average Speed   Time    Time     Time  Current\n",
      "                                 Dload  Upload   Total   Spent    Left  Speed\n",
      "100  857k    0  363k  100  494k   138k   188k  0:00:02  0:00:02 --:--:--  327k\n"
     ]
    }
   ],
   "source": [
    "!curl --location 'http://localhost:8070/api/createTraining' \\\n",
    "--form 'input=@\"../input/pdf/10.12946__rg01__036-055.pdf\"' \\\n",
    "--output ../output/training/file.zip\n"
   ]
  },
  {
   "cell_type": "code",
   "execution_count": 2,
   "id": "0370216b-e817-4ca2-97f5-8d35deffa86d",
   "metadata": {
    "tags": []
   },
   "outputs": [
    {
     "name": "stdout",
     "output_type": "stream",
     "text": [
      "Archive:  ../output/training/file.zip\n",
      "  inflating: ../output/training/10.12946__rg01__036-055.pdf/origin8643267847706340452.training.fulltext.tei.xml  \n",
      "  inflating: ../output/training/10.12946__rg01__036-055.pdf/origin8643267847706340452.training.references.referenceSegmenter.tei.xml  \n",
      "  inflating: ../output/training/10.12946__rg01__036-055.pdf/origin8643267847706340452.training.header.tei.xml  \n",
      "  inflating: ../output/training/10.12946__rg01__036-055.pdf/origin8643267847706340452.training.table  \n",
      "  inflating: ../output/training/10.12946__rg01__036-055.pdf/origin8643267847706340452.training.segmentation.rawtxt  \n",
      "  inflating: ../output/training/10.12946__rg01__036-055.pdf/origin8643267847706340452.training.fulltext  \n",
      "  inflating: ../output/training/10.12946__rg01__036-055.pdf/origin8643267847706340452.training.header.authors.tei.xml  \n",
      "  inflating: ../output/training/10.12946__rg01__036-055.pdf/origin8643267847706340452.training.header  \n",
      "  inflating: ../output/training/10.12946__rg01__036-055.pdf/origin8643267847706340452.training.figure  \n",
      "  inflating: ../output/training/10.12946__rg01__036-055.pdf/origin8643267847706340452.training.figure.tei.xml  \n",
      "  inflating: ../output/training/10.12946__rg01__036-055.pdf/origin8643267847706340452.training.references.referenceSegmenter  \n",
      "  inflating: ../output/training/10.12946__rg01__036-055.pdf/origin8643267847706340452.training.table.tei.xml  \n",
      "  inflating: ../output/training/10.12946__rg01__036-055.pdf/origin8643267847706340452.training.segmentation.tei.xml  \n",
      "  inflating: ../output/training/10.12946__rg01__036-055.pdf/origin8643267847706340452.training.references.tei.xml  \n",
      "  inflating: ../output/training/10.12946__rg01__036-055.pdf/origin8643267847706340452.training.references.authors.tei.xml  \n",
      "  inflating: ../output/training/10.12946__rg01__036-055.pdf/origin8643267847706340452.training.references.referenceSegmenter.rawtxt  \n",
      "  inflating: ../output/training/10.12946__rg01__036-055.pdf/origin8643267847706340452.training.segmentation  \n"
     ]
    }
   ],
   "source": [
    "!unzip ../output/training/file.zip -d ../output/training/10.12946__rg01__036-055.pdf"
   ]
  },
  {
   "cell_type": "code",
   "execution_count": null,
   "id": "9644734c-e631-434e-97b0-6dc2a9d00044",
   "metadata": {},
   "outputs": [],
   "source": []
  }
 ],
 "metadata": {
  "kernelspec": {
   "display_name": "Anaconda 2021.11",
   "language": "python",
   "name": "anaconda_3_2021_11"
  },
  "language_info": {
   "codemirror_mode": {
    "name": "ipython",
    "version": 3
   },
   "file_extension": ".py",
   "mimetype": "text/x-python",
   "name": "python",
   "nbconvert_exporter": "python",
   "pygments_lexer": "ipython3",
   "version": "3.9.7"
  }
 },
 "nbformat": 4,
 "nbformat_minor": 5
}
